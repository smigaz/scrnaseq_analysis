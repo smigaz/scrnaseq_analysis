{
 "cells": [
  {
   "cell_type": "code",
   "execution_count": 1,
   "id": "bc4573c2-6b01-4b2c-b0b3-000193165634",
   "metadata": {},
   "outputs": [
    {
     "name": "stdout",
     "output_type": "stream",
     "text": [
      "0.10.7\n"
     ]
    }
   ],
   "source": [
    "import numpy as np\n",
    "import pandas as pd\n",
    "import anndata as ad\n",
    "from scipy.sparse import csr_matrix\n",
    "print(ad.__version__)"
   ]
  },
  {
   "cell_type": "code",
   "execution_count": 30,
   "id": "135ce50c-6a0b-4f98-a21d-ed6b87d6fbaa",
   "metadata": {},
   "outputs": [
    {
     "data": {
      "text/plain": [
       "AnnData object with n_obs × n_vars = 100 × 2000"
      ]
     },
     "execution_count": 30,
     "metadata": {},
     "output_type": "execute_result"
    }
   ],
   "source": [
    "#build basic anndata object\n",
    "counts = csr_matrix(np.random.poisson(1, size=(100, 2000)), dtype=np.float32)\n",
    "adata = ad.AnnData(counts)\n",
    "adata"
   ]
  },
  {
   "cell_type": "code",
   "execution_count": 31,
   "id": "4959ac5c-5273-40cf-9563-0bc78f0dca36",
   "metadata": {},
   "outputs": [
    {
     "data": {
      "text/plain": [
       "<100x2000 sparse matrix of type '<class 'numpy.float32'>'\n",
       "\twith 126677 stored elements in Compressed Sparse Row format>"
      ]
     },
     "execution_count": 31,
     "metadata": {},
     "output_type": "execute_result"
    }
   ],
   "source": [
    "adata.X"
   ]
  },
  {
   "cell_type": "code",
   "execution_count": 32,
   "id": "995bc37b-8807-45e7-9d0c-07b210999c29",
   "metadata": {},
   "outputs": [
    {
     "name": "stdout",
     "output_type": "stream",
     "text": [
      "Index(['Cell_0', 'Cell_1', 'Cell_2', 'Cell_3', 'Cell_4', 'Cell_5', 'Cell_6',\n",
      "       'Cell_7', 'Cell_8', 'Cell_9'],\n",
      "      dtype='object')\n"
     ]
    }
   ],
   "source": [
    "#provide index for obs (cells) and var (genes)\n",
    "adata.obs_names = [f\"Cell_{i:d}\" for i in range(adata.n_obs)]\n",
    "adata.var_names = [f\"Gene_{i:d}\" for i in range(adata.n_vars)]\n",
    "print(adata.obs_names[:10])"
   ]
  },
  {
   "cell_type": "code",
   "execution_count": 33,
   "id": "a337b940-3b66-44f4-939d-d201ecc7dd69",
   "metadata": {},
   "outputs": [
    {
     "data": {
      "text/plain": [
       "View of AnnData object with n_obs × n_vars = 2 × 2"
      ]
     },
     "execution_count": 33,
     "metadata": {},
     "output_type": "execute_result"
    }
   ],
   "source": [
    "#subset anndata\n",
    "adata[[\"Cell_1\", \"Cell_10\"], [\"Gene_5\", \"Gene_1900\"]]"
   ]
  },
  {
   "cell_type": "code",
   "execution_count": 34,
   "id": "6d823a93-1c2d-47de-8f0f-87956946a60b",
   "metadata": {},
   "outputs": [
    {
     "data": {
      "text/html": [
       "<div>\n",
       "<style scoped>\n",
       "    .dataframe tbody tr th:only-of-type {\n",
       "        vertical-align: middle;\n",
       "    }\n",
       "\n",
       "    .dataframe tbody tr th {\n",
       "        vertical-align: top;\n",
       "    }\n",
       "\n",
       "    .dataframe thead th {\n",
       "        text-align: right;\n",
       "    }\n",
       "</style>\n",
       "<table border=\"1\" class=\"dataframe\">\n",
       "  <thead>\n",
       "    <tr style=\"text-align: right;\">\n",
       "      <th></th>\n",
       "      <th>cell_type</th>\n",
       "    </tr>\n",
       "  </thead>\n",
       "  <tbody>\n",
       "    <tr>\n",
       "      <th>Cell_0</th>\n",
       "      <td>B</td>\n",
       "    </tr>\n",
       "    <tr>\n",
       "      <th>Cell_1</th>\n",
       "      <td>Monocyte</td>\n",
       "    </tr>\n",
       "    <tr>\n",
       "      <th>Cell_2</th>\n",
       "      <td>T</td>\n",
       "    </tr>\n",
       "    <tr>\n",
       "      <th>Cell_3</th>\n",
       "      <td>Monocyte</td>\n",
       "    </tr>\n",
       "    <tr>\n",
       "      <th>Cell_4</th>\n",
       "      <td>B</td>\n",
       "    </tr>\n",
       "    <tr>\n",
       "      <th>...</th>\n",
       "      <td>...</td>\n",
       "    </tr>\n",
       "    <tr>\n",
       "      <th>Cell_95</th>\n",
       "      <td>T</td>\n",
       "    </tr>\n",
       "    <tr>\n",
       "      <th>Cell_96</th>\n",
       "      <td>B</td>\n",
       "    </tr>\n",
       "    <tr>\n",
       "      <th>Cell_97</th>\n",
       "      <td>B</td>\n",
       "    </tr>\n",
       "    <tr>\n",
       "      <th>Cell_98</th>\n",
       "      <td>T</td>\n",
       "    </tr>\n",
       "    <tr>\n",
       "      <th>Cell_99</th>\n",
       "      <td>T</td>\n",
       "    </tr>\n",
       "  </tbody>\n",
       "</table>\n",
       "<p>100 rows × 1 columns</p>\n",
       "</div>"
      ],
      "text/plain": [
       "        cell_type\n",
       "Cell_0          B\n",
       "Cell_1   Monocyte\n",
       "Cell_2          T\n",
       "Cell_3   Monocyte\n",
       "Cell_4          B\n",
       "...           ...\n",
       "Cell_95         T\n",
       "Cell_96         B\n",
       "Cell_97         B\n",
       "Cell_98         T\n",
       "Cell_99         T\n",
       "\n",
       "[100 rows x 1 columns]"
      ]
     },
     "execution_count": 34,
     "metadata": {},
     "output_type": "execute_result"
    }
   ],
   "source": [
    "#add metadata at both the observation and variable levels\n",
    "ct = np.random.choice([\"B\", \"T\", \"Monocyte\"], size=(adata.n_obs,))\n",
    "adata.obs[\"cell_type\"] = pd.Categorical(ct)  # Categoricals are preferred for efficiency\n",
    "adata.obs"
   ]
  },
  {
   "cell_type": "code",
   "execution_count": 9,
   "id": "4febceaa-2652-4813-9eb5-d391a23ae8bb",
   "metadata": {},
   "outputs": [
    {
     "data": {
      "text/plain": [
       "AnnData object with n_obs × n_vars = 100 × 2000\n",
       "    obs: 'cell_type'"
      ]
     },
     "execution_count": 9,
     "metadata": {},
     "output_type": "execute_result"
    }
   ],
   "source": [
    "adata"
   ]
  },
  {
   "cell_type": "code",
   "execution_count": 10,
   "id": "925e93cf-b5e7-4c9f-9e64-09bfa05ad4fc",
   "metadata": {},
   "outputs": [
    {
     "data": {
      "text/plain": [
       "AxisArrays with keys: X_umap"
      ]
     },
     "execution_count": 10,
     "metadata": {},
     "output_type": "execute_result"
    }
   ],
   "source": [
    "#randomly generated matrix that we can interpret as a UMAP\n",
    "adata.obsm[\"X_umap\"] = np.random.normal(0, 1, size=(adata.n_obs, 2))\n",
    "adata.varm[\"gene_stuff\"] = np.random.normal(0, 1, size=(adata.n_vars, 5))\n",
    "adata.obsm"
   ]
  },
  {
   "cell_type": "code",
   "execution_count": 11,
   "id": "34842833-a1fe-4750-ae4c-916c48d3f402",
   "metadata": {},
   "outputs": [
    {
     "data": {
      "text/plain": [
       "OrderedDict([('random', [1, 2, 3])])"
      ]
     },
     "execution_count": 11,
     "metadata": {},
     "output_type": "execute_result"
    }
   ],
   "source": [
    "#Unstructured metadata\n",
    "adata.uns[\"random\"] = [1, 2, 3]\n",
    "adata.uns"
   ]
  },
  {
   "cell_type": "code",
   "execution_count": 13,
   "id": "6fc80485-cc86-4ab4-8dbe-0cdae5f2ce63",
   "metadata": {},
   "outputs": [
    {
     "data": {
      "text/plain": [
       "AnnData object with n_obs × n_vars = 100 × 2000\n",
       "    obs: 'cell_type'\n",
       "    uns: 'random'\n",
       "    obsm: 'X_umap'\n",
       "    varm: 'gene_stuff'\n",
       "    layers: 'log_transformed'"
      ]
     },
     "execution_count": 13,
     "metadata": {},
     "output_type": "execute_result"
    }
   ],
   "source": [
    "#layers - different forms of our original core data\n",
    "adata.layers[\"log_transformed\"] = np.log1p(adata.X)\n",
    "adata"
   ]
  },
  {
   "cell_type": "code",
   "execution_count": 15,
   "id": "b513c3e2-068b-420f-bcd3-c3aa770e7657",
   "metadata": {},
   "outputs": [
    {
     "data": {
      "text/html": [
       "<div>\n",
       "<style scoped>\n",
       "    .dataframe tbody tr th:only-of-type {\n",
       "        vertical-align: middle;\n",
       "    }\n",
       "\n",
       "    .dataframe tbody tr th {\n",
       "        vertical-align: top;\n",
       "    }\n",
       "\n",
       "    .dataframe thead th {\n",
       "        text-align: right;\n",
       "    }\n",
       "</style>\n",
       "<table border=\"1\" class=\"dataframe\">\n",
       "  <thead>\n",
       "    <tr style=\"text-align: right;\">\n",
       "      <th></th>\n",
       "      <th>Gene_0</th>\n",
       "      <th>Gene_1</th>\n",
       "      <th>Gene_2</th>\n",
       "      <th>Gene_3</th>\n",
       "      <th>Gene_4</th>\n",
       "      <th>Gene_5</th>\n",
       "      <th>Gene_6</th>\n",
       "      <th>Gene_7</th>\n",
       "      <th>Gene_8</th>\n",
       "      <th>Gene_9</th>\n",
       "      <th>...</th>\n",
       "      <th>Gene_1990</th>\n",
       "      <th>Gene_1991</th>\n",
       "      <th>Gene_1992</th>\n",
       "      <th>Gene_1993</th>\n",
       "      <th>Gene_1994</th>\n",
       "      <th>Gene_1995</th>\n",
       "      <th>Gene_1996</th>\n",
       "      <th>Gene_1997</th>\n",
       "      <th>Gene_1998</th>\n",
       "      <th>Gene_1999</th>\n",
       "    </tr>\n",
       "  </thead>\n",
       "  <tbody>\n",
       "    <tr>\n",
       "      <th>Cell_0</th>\n",
       "      <td>0.693147</td>\n",
       "      <td>0.000000</td>\n",
       "      <td>0.000000</td>\n",
       "      <td>1.098612</td>\n",
       "      <td>0.000000</td>\n",
       "      <td>0.693147</td>\n",
       "      <td>1.098612</td>\n",
       "      <td>0.693147</td>\n",
       "      <td>0.000000</td>\n",
       "      <td>1.098612</td>\n",
       "      <td>...</td>\n",
       "      <td>0.693147</td>\n",
       "      <td>0.693147</td>\n",
       "      <td>0.693147</td>\n",
       "      <td>0.693147</td>\n",
       "      <td>1.386294</td>\n",
       "      <td>0.693147</td>\n",
       "      <td>0.693147</td>\n",
       "      <td>0.000000</td>\n",
       "      <td>1.098612</td>\n",
       "      <td>0.000000</td>\n",
       "    </tr>\n",
       "    <tr>\n",
       "      <th>Cell_1</th>\n",
       "      <td>0.000000</td>\n",
       "      <td>0.000000</td>\n",
       "      <td>0.693147</td>\n",
       "      <td>0.693147</td>\n",
       "      <td>0.693147</td>\n",
       "      <td>0.693147</td>\n",
       "      <td>0.000000</td>\n",
       "      <td>0.000000</td>\n",
       "      <td>0.693147</td>\n",
       "      <td>0.000000</td>\n",
       "      <td>...</td>\n",
       "      <td>1.098612</td>\n",
       "      <td>1.098612</td>\n",
       "      <td>1.098612</td>\n",
       "      <td>0.693147</td>\n",
       "      <td>0.693147</td>\n",
       "      <td>0.693147</td>\n",
       "      <td>0.693147</td>\n",
       "      <td>0.693147</td>\n",
       "      <td>1.098612</td>\n",
       "      <td>0.693147</td>\n",
       "    </tr>\n",
       "    <tr>\n",
       "      <th>Cell_2</th>\n",
       "      <td>1.386294</td>\n",
       "      <td>0.000000</td>\n",
       "      <td>0.693147</td>\n",
       "      <td>1.098612</td>\n",
       "      <td>0.693147</td>\n",
       "      <td>0.693147</td>\n",
       "      <td>0.693147</td>\n",
       "      <td>0.693147</td>\n",
       "      <td>0.693147</td>\n",
       "      <td>0.693147</td>\n",
       "      <td>...</td>\n",
       "      <td>0.693147</td>\n",
       "      <td>0.000000</td>\n",
       "      <td>0.693147</td>\n",
       "      <td>1.098612</td>\n",
       "      <td>0.693147</td>\n",
       "      <td>1.098612</td>\n",
       "      <td>0.000000</td>\n",
       "      <td>0.000000</td>\n",
       "      <td>1.386294</td>\n",
       "      <td>1.386294</td>\n",
       "    </tr>\n",
       "    <tr>\n",
       "      <th>Cell_3</th>\n",
       "      <td>0.693147</td>\n",
       "      <td>0.693147</td>\n",
       "      <td>0.000000</td>\n",
       "      <td>0.000000</td>\n",
       "      <td>0.693147</td>\n",
       "      <td>0.000000</td>\n",
       "      <td>0.693147</td>\n",
       "      <td>0.000000</td>\n",
       "      <td>0.000000</td>\n",
       "      <td>0.000000</td>\n",
       "      <td>...</td>\n",
       "      <td>0.000000</td>\n",
       "      <td>0.693147</td>\n",
       "      <td>0.693147</td>\n",
       "      <td>0.693147</td>\n",
       "      <td>0.693147</td>\n",
       "      <td>0.000000</td>\n",
       "      <td>0.693147</td>\n",
       "      <td>0.693147</td>\n",
       "      <td>0.000000</td>\n",
       "      <td>0.693147</td>\n",
       "    </tr>\n",
       "    <tr>\n",
       "      <th>Cell_4</th>\n",
       "      <td>0.693147</td>\n",
       "      <td>0.000000</td>\n",
       "      <td>1.386294</td>\n",
       "      <td>1.098612</td>\n",
       "      <td>1.386294</td>\n",
       "      <td>1.098612</td>\n",
       "      <td>0.000000</td>\n",
       "      <td>1.386294</td>\n",
       "      <td>0.693147</td>\n",
       "      <td>1.609438</td>\n",
       "      <td>...</td>\n",
       "      <td>0.000000</td>\n",
       "      <td>0.000000</td>\n",
       "      <td>0.000000</td>\n",
       "      <td>0.000000</td>\n",
       "      <td>1.098612</td>\n",
       "      <td>0.000000</td>\n",
       "      <td>0.693147</td>\n",
       "      <td>0.000000</td>\n",
       "      <td>0.693147</td>\n",
       "      <td>0.000000</td>\n",
       "    </tr>\n",
       "    <tr>\n",
       "      <th>...</th>\n",
       "      <td>...</td>\n",
       "      <td>...</td>\n",
       "      <td>...</td>\n",
       "      <td>...</td>\n",
       "      <td>...</td>\n",
       "      <td>...</td>\n",
       "      <td>...</td>\n",
       "      <td>...</td>\n",
       "      <td>...</td>\n",
       "      <td>...</td>\n",
       "      <td>...</td>\n",
       "      <td>...</td>\n",
       "      <td>...</td>\n",
       "      <td>...</td>\n",
       "      <td>...</td>\n",
       "      <td>...</td>\n",
       "      <td>...</td>\n",
       "      <td>...</td>\n",
       "      <td>...</td>\n",
       "      <td>...</td>\n",
       "      <td>...</td>\n",
       "    </tr>\n",
       "    <tr>\n",
       "      <th>Cell_95</th>\n",
       "      <td>1.098612</td>\n",
       "      <td>0.693147</td>\n",
       "      <td>0.693147</td>\n",
       "      <td>1.386294</td>\n",
       "      <td>0.000000</td>\n",
       "      <td>0.693147</td>\n",
       "      <td>1.098612</td>\n",
       "      <td>0.000000</td>\n",
       "      <td>0.000000</td>\n",
       "      <td>0.000000</td>\n",
       "      <td>...</td>\n",
       "      <td>0.693147</td>\n",
       "      <td>0.693147</td>\n",
       "      <td>1.098612</td>\n",
       "      <td>1.098612</td>\n",
       "      <td>0.000000</td>\n",
       "      <td>1.386294</td>\n",
       "      <td>0.693147</td>\n",
       "      <td>1.098612</td>\n",
       "      <td>0.000000</td>\n",
       "      <td>1.098612</td>\n",
       "    </tr>\n",
       "    <tr>\n",
       "      <th>Cell_96</th>\n",
       "      <td>1.098612</td>\n",
       "      <td>1.098612</td>\n",
       "      <td>0.693147</td>\n",
       "      <td>0.000000</td>\n",
       "      <td>0.693147</td>\n",
       "      <td>0.000000</td>\n",
       "      <td>1.098612</td>\n",
       "      <td>1.098612</td>\n",
       "      <td>0.000000</td>\n",
       "      <td>0.693147</td>\n",
       "      <td>...</td>\n",
       "      <td>0.693147</td>\n",
       "      <td>0.693147</td>\n",
       "      <td>0.693147</td>\n",
       "      <td>0.693147</td>\n",
       "      <td>0.000000</td>\n",
       "      <td>0.693147</td>\n",
       "      <td>0.000000</td>\n",
       "      <td>1.386294</td>\n",
       "      <td>0.000000</td>\n",
       "      <td>0.000000</td>\n",
       "    </tr>\n",
       "    <tr>\n",
       "      <th>Cell_97</th>\n",
       "      <td>1.098612</td>\n",
       "      <td>1.098612</td>\n",
       "      <td>1.098612</td>\n",
       "      <td>0.000000</td>\n",
       "      <td>0.000000</td>\n",
       "      <td>0.693147</td>\n",
       "      <td>1.098612</td>\n",
       "      <td>1.098612</td>\n",
       "      <td>0.693147</td>\n",
       "      <td>1.098612</td>\n",
       "      <td>...</td>\n",
       "      <td>0.000000</td>\n",
       "      <td>0.693147</td>\n",
       "      <td>1.386294</td>\n",
       "      <td>0.000000</td>\n",
       "      <td>0.000000</td>\n",
       "      <td>0.693147</td>\n",
       "      <td>0.693147</td>\n",
       "      <td>0.000000</td>\n",
       "      <td>0.693147</td>\n",
       "      <td>1.098612</td>\n",
       "    </tr>\n",
       "    <tr>\n",
       "      <th>Cell_98</th>\n",
       "      <td>0.000000</td>\n",
       "      <td>0.000000</td>\n",
       "      <td>0.693147</td>\n",
       "      <td>0.693147</td>\n",
       "      <td>1.098612</td>\n",
       "      <td>1.098612</td>\n",
       "      <td>0.000000</td>\n",
       "      <td>1.609438</td>\n",
       "      <td>1.098612</td>\n",
       "      <td>0.693147</td>\n",
       "      <td>...</td>\n",
       "      <td>0.000000</td>\n",
       "      <td>1.098612</td>\n",
       "      <td>1.098612</td>\n",
       "      <td>0.693147</td>\n",
       "      <td>0.000000</td>\n",
       "      <td>0.000000</td>\n",
       "      <td>0.000000</td>\n",
       "      <td>0.693147</td>\n",
       "      <td>0.000000</td>\n",
       "      <td>0.000000</td>\n",
       "    </tr>\n",
       "    <tr>\n",
       "      <th>Cell_99</th>\n",
       "      <td>0.693147</td>\n",
       "      <td>0.693147</td>\n",
       "      <td>0.693147</td>\n",
       "      <td>1.386294</td>\n",
       "      <td>0.693147</td>\n",
       "      <td>0.693147</td>\n",
       "      <td>0.000000</td>\n",
       "      <td>0.000000</td>\n",
       "      <td>0.000000</td>\n",
       "      <td>1.386294</td>\n",
       "      <td>...</td>\n",
       "      <td>0.000000</td>\n",
       "      <td>0.000000</td>\n",
       "      <td>1.098612</td>\n",
       "      <td>0.693147</td>\n",
       "      <td>0.000000</td>\n",
       "      <td>0.000000</td>\n",
       "      <td>0.693147</td>\n",
       "      <td>1.098612</td>\n",
       "      <td>0.693147</td>\n",
       "      <td>0.693147</td>\n",
       "    </tr>\n",
       "  </tbody>\n",
       "</table>\n",
       "<p>100 rows × 2000 columns</p>\n",
       "</div>"
      ],
      "text/plain": [
       "           Gene_0    Gene_1    Gene_2    Gene_3    Gene_4    Gene_5    Gene_6  \\\n",
       "Cell_0   0.693147  0.000000  0.000000  1.098612  0.000000  0.693147  1.098612   \n",
       "Cell_1   0.000000  0.000000  0.693147  0.693147  0.693147  0.693147  0.000000   \n",
       "Cell_2   1.386294  0.000000  0.693147  1.098612  0.693147  0.693147  0.693147   \n",
       "Cell_3   0.693147  0.693147  0.000000  0.000000  0.693147  0.000000  0.693147   \n",
       "Cell_4   0.693147  0.000000  1.386294  1.098612  1.386294  1.098612  0.000000   \n",
       "...           ...       ...       ...       ...       ...       ...       ...   \n",
       "Cell_95  1.098612  0.693147  0.693147  1.386294  0.000000  0.693147  1.098612   \n",
       "Cell_96  1.098612  1.098612  0.693147  0.000000  0.693147  0.000000  1.098612   \n",
       "Cell_97  1.098612  1.098612  1.098612  0.000000  0.000000  0.693147  1.098612   \n",
       "Cell_98  0.000000  0.000000  0.693147  0.693147  1.098612  1.098612  0.000000   \n",
       "Cell_99  0.693147  0.693147  0.693147  1.386294  0.693147  0.693147  0.000000   \n",
       "\n",
       "           Gene_7    Gene_8    Gene_9  ...  Gene_1990  Gene_1991  Gene_1992  \\\n",
       "Cell_0   0.693147  0.000000  1.098612  ...   0.693147   0.693147   0.693147   \n",
       "Cell_1   0.000000  0.693147  0.000000  ...   1.098612   1.098612   1.098612   \n",
       "Cell_2   0.693147  0.693147  0.693147  ...   0.693147   0.000000   0.693147   \n",
       "Cell_3   0.000000  0.000000  0.000000  ...   0.000000   0.693147   0.693147   \n",
       "Cell_4   1.386294  0.693147  1.609438  ...   0.000000   0.000000   0.000000   \n",
       "...           ...       ...       ...  ...        ...        ...        ...   \n",
       "Cell_95  0.000000  0.000000  0.000000  ...   0.693147   0.693147   1.098612   \n",
       "Cell_96  1.098612  0.000000  0.693147  ...   0.693147   0.693147   0.693147   \n",
       "Cell_97  1.098612  0.693147  1.098612  ...   0.000000   0.693147   1.386294   \n",
       "Cell_98  1.609438  1.098612  0.693147  ...   0.000000   1.098612   1.098612   \n",
       "Cell_99  0.000000  0.000000  1.386294  ...   0.000000   0.000000   1.098612   \n",
       "\n",
       "         Gene_1993  Gene_1994  Gene_1995  Gene_1996  Gene_1997  Gene_1998  \\\n",
       "Cell_0    0.693147   1.386294   0.693147   0.693147   0.000000   1.098612   \n",
       "Cell_1    0.693147   0.693147   0.693147   0.693147   0.693147   1.098612   \n",
       "Cell_2    1.098612   0.693147   1.098612   0.000000   0.000000   1.386294   \n",
       "Cell_3    0.693147   0.693147   0.000000   0.693147   0.693147   0.000000   \n",
       "Cell_4    0.000000   1.098612   0.000000   0.693147   0.000000   0.693147   \n",
       "...            ...        ...        ...        ...        ...        ...   \n",
       "Cell_95   1.098612   0.000000   1.386294   0.693147   1.098612   0.000000   \n",
       "Cell_96   0.693147   0.000000   0.693147   0.000000   1.386294   0.000000   \n",
       "Cell_97   0.000000   0.000000   0.693147   0.693147   0.000000   0.693147   \n",
       "Cell_98   0.693147   0.000000   0.000000   0.000000   0.693147   0.000000   \n",
       "Cell_99   0.693147   0.000000   0.000000   0.693147   1.098612   0.693147   \n",
       "\n",
       "         Gene_1999  \n",
       "Cell_0    0.000000  \n",
       "Cell_1    0.693147  \n",
       "Cell_2    1.386294  \n",
       "Cell_3    0.693147  \n",
       "Cell_4    0.000000  \n",
       "...            ...  \n",
       "Cell_95   1.098612  \n",
       "Cell_96   0.000000  \n",
       "Cell_97   1.098612  \n",
       "Cell_98   0.000000  \n",
       "Cell_99   0.693147  \n",
       "\n",
       "[100 rows x 2000 columns]"
      ]
     },
     "execution_count": 15,
     "metadata": {},
     "output_type": "execute_result"
    }
   ],
   "source": [
    "#Conversion to DataFrames\n",
    "adata.to_df(layer=\"log_transformed\")"
   ]
  },
  {
   "cell_type": "code",
   "execution_count": null,
   "id": "851b90b9-cb3f-468c-9f76-0360e039fa8c",
   "metadata": {},
   "outputs": [],
   "source": [
    "#Writing the results to disk\n",
    "#adata.write('my_results.h5ad', compression=\"gzip\")"
   ]
  },
  {
   "cell_type": "code",
   "execution_count": 37,
   "id": "39a18e6a-ad53-4c04-9519-b2eaf498ea19",
   "metadata": {},
   "outputs": [],
   "source": [
    "#another metadata use case\n",
    "obs_meta = pd.DataFrame({\n",
    "        'time_yr': np.random.choice([0, 2, 4, 8], adata.n_obs),\n",
    "        'subject_id': np.random.choice(['subject 1', 'subject 2', 'subject 4', 'subject 8'], adata.n_obs),\n",
    "        'instrument_type': np.random.choice(['type a', 'type b'], adata.n_obs),\n",
    "        'site': np.random.choice(['site x', 'site y'], adata.n_obs),\n",
    "    },\n",
    "    index=adata.obs.index,    # these are the same IDs of observations as above!\n",
    ")\n",
    "#adata = ad.AnnData(adata.X, obs=obs_meta, var=adata.var)\n",
    "adata.obs[\"time_yr\"] = obs_meta[\"time_yr\"]\n",
    "adata.obs[\"subject_id\"] = obs_meta[\"subject_id\"]\n",
    "adata.obs[\"instrument_type\"] = obs_meta[\"instrument_type\"]\n",
    "adata.obs[\"site\"] = obs_meta[\"site\"]"
   ]
  },
  {
   "cell_type": "code",
   "execution_count": 38,
   "id": "617549cd-bac6-46f4-863c-738fa880463b",
   "metadata": {},
   "outputs": [
    {
     "name": "stdout",
     "output_type": "stream",
     "text": [
      "        cell_type  time_yr subject_id instrument_type    site\n",
      "Cell_0          B        4  subject 4          type a  site y\n",
      "Cell_1   Monocyte        4  subject 1          type a  site y\n",
      "Cell_2          T        8  subject 1          type b  site y\n",
      "Cell_3   Monocyte        4  subject 4          type b  site y\n",
      "Cell_4          B        2  subject 8          type a  site y\n",
      "...           ...      ...        ...             ...     ...\n",
      "Cell_95         T        0  subject 2          type a  site y\n",
      "Cell_96         B        8  subject 2          type a  site x\n",
      "Cell_97         B        2  subject 2          type b  site y\n",
      "Cell_98         T        4  subject 1          type a  site x\n",
      "Cell_99         T        8  subject 4          type b  site y\n",
      "\n",
      "[100 rows x 5 columns]\n"
     ]
    }
   ],
   "source": [
    "print(adata.obs)"
   ]
  },
  {
   "cell_type": "code",
   "execution_count": null,
   "id": "d1261511-b239-4951-9c7d-47ff5f288ba0",
   "metadata": {},
   "outputs": [],
   "source": [
    "#Partial reading of large data\n",
    "#adata = ad.read('my_results.h5ad', backed='r')"
   ]
  }
 ],
 "metadata": {
  "kernelspec": {
   "display_name": "Python 3 (ipykernel)",
   "language": "python",
   "name": "python3"
  },
  "language_info": {
   "codemirror_mode": {
    "name": "ipython",
    "version": 3
   },
   "file_extension": ".py",
   "mimetype": "text/x-python",
   "name": "python",
   "nbconvert_exporter": "python",
   "pygments_lexer": "ipython3",
   "version": "3.10.12"
  }
 },
 "nbformat": 4,
 "nbformat_minor": 5
}
