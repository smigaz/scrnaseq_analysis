{
 "cells": [
  {
   "cell_type": "code",
   "execution_count": 1,
   "id": "4e8ea7f7",
   "metadata": {},
   "outputs": [],
   "source": [
    "import numpy as np\n",
    "import scanpy as sc"
   ]
  },
  {
   "cell_type": "code",
   "execution_count": 29,
   "id": "11c4ee16",
   "metadata": {},
   "outputs": [],
   "source": [
    "#Read adata\n",
    "results_raw = \"../results_cellranger/SRR25669275/raw_feature_bc_matrix.h5\" \n",
    "results_cellbender = \"../results_cellbender/SRR25669275/SRR25669275_cellbender_filtered.h5\" "
   ]
  },
  {
   "cell_type": "code",
   "execution_count": 27,
   "id": "a816c1d0",
   "metadata": {},
   "outputs": [
    {
     "name": "stderr",
     "output_type": "stream",
     "text": [
      "/home/aleksandra_smigas/.local/lib/python3.10/site-packages/anndata/_core/anndata.py:1820: UserWarning: Variable names are not unique. To make them unique, call `.var_names_make_unique`.\n",
      "  utils.warn_names_duplicates(\"var\")\n",
      "/home/aleksandra_smigas/.local/lib/python3.10/site-packages/anndata/_core/anndata.py:1820: UserWarning: Variable names are not unique. To make them unique, call `.var_names_make_unique`.\n",
      "  utils.warn_names_duplicates(\"var\")\n"
     ]
    }
   ],
   "source": [
    "sample_raw = sc.read_10x_h5(results_raw)\n",
    "sample_raw.var_names_make_unique()"
   ]
  },
  {
   "cell_type": "code",
   "execution_count": 30,
   "id": "19325c64",
   "metadata": {},
   "outputs": [
    {
     "name": "stderr",
     "output_type": "stream",
     "text": [
      "/home/aleksandra_smigas/.local/lib/python3.10/site-packages/anndata/_core/anndata.py:1820: UserWarning: Variable names are not unique. To make them unique, call `.var_names_make_unique`.\n",
      "  utils.warn_names_duplicates(\"var\")\n",
      "/home/aleksandra_smigas/.local/lib/python3.10/site-packages/anndata/_core/anndata.py:1820: UserWarning: Variable names are not unique. To make them unique, call `.var_names_make_unique`.\n",
      "  utils.warn_names_duplicates(\"var\")\n"
     ]
    }
   ],
   "source": [
    "sample_cellbender = sc.read_10x_h5(results_cellbender)\n",
    "sample_cellbender.var_names_make_unique()"
   ]
  },
  {
   "cell_type": "code",
   "execution_count": 32,
   "id": "e08c5315",
   "metadata": {},
   "outputs": [
    {
     "data": {
      "text/plain": [
       "2114717"
      ]
     },
     "execution_count": 32,
     "metadata": {},
     "output_type": "execute_result"
    }
   ],
   "source": [
    "sample_raw.n_obs"
   ]
  },
  {
   "cell_type": "code",
   "execution_count": 33,
   "id": "734500a4",
   "metadata": {},
   "outputs": [
    {
     "data": {
      "text/plain": [
       "12749"
      ]
     },
     "execution_count": 33,
     "metadata": {},
     "output_type": "execute_result"
    }
   ],
   "source": [
    "sample_cellbender.n_obs"
   ]
  }
 ],
 "metadata": {
  "kernelspec": {
   "display_name": "Python 3 (ipykernel)",
   "language": "python",
   "name": "python3"
  },
  "language_info": {
   "codemirror_mode": {
    "name": "ipython",
    "version": 3
   },
   "file_extension": ".py",
   "mimetype": "text/x-python",
   "name": "python",
   "nbconvert_exporter": "python",
   "pygments_lexer": "ipython3",
   "version": "3.10.12"
  }
 },
 "nbformat": 4,
 "nbformat_minor": 5
}
